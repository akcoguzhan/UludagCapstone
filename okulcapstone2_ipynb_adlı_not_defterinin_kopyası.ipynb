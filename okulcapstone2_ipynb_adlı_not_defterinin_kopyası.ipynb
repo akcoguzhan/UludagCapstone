{
  "nbformat": 4,
  "nbformat_minor": 0,
  "metadata": {
    "colab": {
      "provenance": [],
      "include_colab_link": true
    },
    "kernelspec": {
      "name": "python3",
      "display_name": "Python 3"
    },
    "language_info": {
      "name": "python"
    },
    "accelerator": "GPU",
    "gpuClass": "standard"
  },
  "cells": [
    {
      "cell_type": "markdown",
      "metadata": {
        "id": "view-in-github",
        "colab_type": "text"
      },
      "source": [
        "<a href=\"https://colab.research.google.com/github/akcoguzhan/UludagCapstone/blob/main/okulcapstone2_ipynb_adl%C4%B1_not_defterinin_kopyas%C4%B1.ipynb\" target=\"_parent\"><img src=\"https://colab.research.google.com/assets/colab-badge.svg\" alt=\"Open In Colab\"/></a>"
      ]
    },
    {
      "cell_type": "code",
      "execution_count": null,
      "metadata": {
        "id": "BY6m-QKDzKFk"
      },
      "outputs": [],
      "source": [
        "import pandas as pd\n",
        "import numpy as np\n",
        "import sklearn\n",
        "from sklearn.model_selection import train_test_split\n",
        "from sklearn.ensemble import RandomForestClassifier\n",
        "from sklearn.metrics import accuracy_score\n",
        "from sklearn.preprocessing import StandardScaler\n",
        "from sklearn.model_selection import GridSearchCV\n",
        "from sklearn.decomposition import PCA\n",
        "from sklearn.pipeline import make_pipeline\n",
        "import librosa\n",
        "from sklearn.metrics import accuracy_score\n",
        "from sklearn.preprocessing import StandardScaler, OneHotEncoder\n",
        "from sklearn.metrics import confusion_matrix, classification_report\n",
        "from sklearn.model_selection import train_test_split\n",
        "import seaborn as sns\n",
        "# to play the audio files\n",
        "from IPython.display import Audio\n",
        "import plotly.graph_objects as go\n",
        "import keras\n",
        "from keras.callbacks import EarlyStopping\n",
        "from keras.callbacks import ReduceLROnPlateau\n",
        "from keras.models import Sequential\n",
        "from keras.layers import Dense, Conv1D, MaxPooling1D, Flatten, Dropout, BatchNormalization,LSTM\n",
        "from keras.utils import np_utils, to_categorical\n",
        "from keras.callbacks import ModelCheckpoint\n",
        "import matplotlib.pyplot as plt"
      ]
    },
    {
      "cell_type": "code",
      "source": [
        "from google.colab import drive\n",
        "drive.mount('/content/gdrive')"
      ],
      "metadata": {
        "colab": {
          "base_uri": "https://localhost:8080/"
        },
        "id": "TkUCMy2azqlb",
        "outputId": "0ebe1569-f188-4678-d1e4-e02e579130e2"
      },
      "execution_count": null,
      "outputs": [
        {
          "output_type": "stream",
          "name": "stdout",
          "text": [
            "Mounted at /content/gdrive\n"
          ]
        }
      ]
    },
    {
      "cell_type": "code",
      "source": [
        "data=pd.read_csv(\"/content/gdrive/MyDrive/okulCapstone/features_3_sec.csv\")\n",
        "pd.set_option('display.float_format', lambda x: '%.8f' % x)"
      ],
      "metadata": {
        "id": "IYOenDOLztPP"
      },
      "execution_count": null,
      "outputs": []
    },
    {
      "cell_type": "code",
      "source": [
        "sütun=['chroma_stft_mean',\n",
        " 'rms_mean',\n",
        " 'harmony_mean',\n",
        " 'tempo',\n",
        " 'mfcc1_mean',\n",
        " 'mfcc2_mean',\n",
        " 'mfcc3_mean',\n",
        " 'mfcc4_mean',\n",
        " 'mfcc5_mean',\n",
        " 'mfcc6_mean',\n",
        " 'mfcc7_mean',\n",
        " 'mfcc8_mean',\n",
        " 'mfcc9_mean',\n",
        " 'mfcc10_mean',\n",
        " 'mfcc11_mean',\n",
        " 'mfcc12_mean',\n",
        " 'mfcc13_mean',\n",
        " 'mfcc14_mean',\n",
        " 'mfcc15_mean',\n",
        " 'mfcc16_mean',\n",
        " 'mfcc17_mean',\n",
        " 'mfcc18_mean',\n",
        " 'mfcc19_mean',\n",
        " 'mfcc20_mean',\n",
        " 'label']"
      ],
      "metadata": {
        "id": "WGXWQzLAUn2b"
      },
      "execution_count": null,
      "outputs": []
    },
    {
      "cell_type": "code",
      "source": [
        "data=data[sütun]"
      ],
      "metadata": {
        "id": "nSJiKsWhU0Uc"
      },
      "execution_count": null,
      "outputs": []
    },
    {
      "cell_type": "code",
      "source": [
        "Y=data[\"label\"]\n",
        "data.drop(columns=[\"label\"],inplace=True)\n",
        "X=data\n"
      ],
      "metadata": {
        "id": "yfTrMxYMz2fu"
      },
      "execution_count": null,
      "outputs": []
    },
    {
      "cell_type": "code",
      "source": [
        "encoder = OneHotEncoder()\n",
        "Y = encoder.fit_transform(np.array(Y).reshape(-1,1)).toarray()\n",
        "encoder.categories_\n"
      ],
      "metadata": {
        "id": "DHHIPl4k4U7j",
        "colab": {
          "base_uri": "https://localhost:8080/"
        },
        "outputId": "e654a830-511e-4d32-ffa3-cfcc4d3d1d99"
      },
      "execution_count": null,
      "outputs": [
        {
          "output_type": "execute_result",
          "data": {
            "text/plain": [
              "[array(['blues', 'classical', 'country', 'disco', 'hiphop', 'jazz',\n",
              "        'metal', 'pop', 'reggae', 'rock'], dtype=object)]"
            ]
          },
          "metadata": {},
          "execution_count": 20
        }
      ]
    },
    {
      "cell_type": "code",
      "source": [
        "x_train, x_test, y_train, y_test = train_test_split(X, Y,test_size=0.25, random_state=20, shuffle=True,stratify=Y)\n"
      ],
      "metadata": {
        "id": "VfMR9nxR4PzI"
      },
      "execution_count": null,
      "outputs": []
    },
    {
      "cell_type": "code",
      "source": [
        "scaler = StandardScaler()\n",
        "\n",
        "x_train = scaler.fit_transform(x_train)\n",
        "x_test = scaler.transform(x_test)"
      ],
      "metadata": {
        "id": "bKrH7x2E4fny"
      },
      "execution_count": null,
      "outputs": []
    },
    {
      "cell_type": "code",
      "source": [
        "x_train = np.expand_dims(x_train, axis=2)\n",
        "x_test = np.expand_dims(x_test, axis=2)\n"
      ],
      "metadata": {
        "id": "IFXzW7HQ4iMG"
      },
      "execution_count": null,
      "outputs": []
    },
    {
      "cell_type": "code",
      "source": [
        "optimizer = keras.optimizers.Adam(learning_rate=0.0005)"
      ],
      "metadata": {
        "id": "nVt7JNVq4kr0"
      },
      "execution_count": null,
      "outputs": []
    },
    {
      "cell_type": "code",
      "source": [
        "model=Sequential()\n",
        "\n",
        "model.add(Conv1D(256, kernel_size=5, strides=1, padding='same', activation='relu', input_shape=(x_train.shape[1], 1)))\n",
        "model.add(BatchNormalization())\n",
        "model.add(MaxPooling1D(pool_size=5, strides = 2, padding = 'same'))\n",
        "\n",
        "model.add(Conv1D(128, kernel_size=5, strides=1, padding='same', activation='relu'))\n",
        "model.add(BatchNormalization())\n",
        "model.add(MaxPooling1D(pool_size=5, strides = 2, padding = 'same'))\n",
        "model.add(Dropout(0.25))\n",
        "\n",
        "model.add(Conv1D(64, kernel_size=5, strides=1, padding='same', activation='relu'))\n",
        "model.add(BatchNormalization())\n",
        "model.add(MaxPooling1D(pool_size=5, strides = 2, padding = 'same'))\n",
        "\n",
        "model.add(Flatten())\n",
        "model.add(Dense(32, activation='relu'))\n",
        "model.add(BatchNormalization())\n",
        "model.add(Dropout(0.2))\n",
        "\n",
        "model.add(Dense(10, activation='softmax'))\n",
        "model.compile(optimizer = 'Adam' , loss = 'categorical_crossentropy' , metrics = ['accuracy'])\n",
        "\n",
        "model.summary()"
      ],
      "metadata": {
        "id": "m0-2R6Sh4m68",
        "colab": {
          "base_uri": "https://localhost:8080/"
        },
        "outputId": "64d18bea-f020-4aea-d87b-bd74cabbabb3"
      },
      "execution_count": null,
      "outputs": [
        {
          "output_type": "stream",
          "name": "stdout",
          "text": [
            "Model: \"sequential_2\"\n",
            "_________________________________________________________________\n",
            " Layer (type)                Output Shape              Param #   \n",
            "=================================================================\n",
            " conv1d_6 (Conv1D)           (None, 24, 256)           1536      \n",
            "                                                                 \n",
            " batch_normalization_8 (Batc  (None, 24, 256)          1024      \n",
            " hNormalization)                                                 \n",
            "                                                                 \n",
            " max_pooling1d_6 (MaxPooling  (None, 12, 256)          0         \n",
            " 1D)                                                             \n",
            "                                                                 \n",
            " conv1d_7 (Conv1D)           (None, 12, 128)           163968    \n",
            "                                                                 \n",
            " batch_normalization_9 (Batc  (None, 12, 128)          512       \n",
            " hNormalization)                                                 \n",
            "                                                                 \n",
            " max_pooling1d_7 (MaxPooling  (None, 6, 128)           0         \n",
            " 1D)                                                             \n",
            "                                                                 \n",
            " dropout_4 (Dropout)         (None, 6, 128)            0         \n",
            "                                                                 \n",
            " conv1d_8 (Conv1D)           (None, 6, 64)             41024     \n",
            "                                                                 \n",
            " batch_normalization_10 (Bat  (None, 6, 64)            256       \n",
            " chNormalization)                                                \n",
            "                                                                 \n",
            " max_pooling1d_8 (MaxPooling  (None, 3, 64)            0         \n",
            " 1D)                                                             \n",
            "                                                                 \n",
            " flatten_2 (Flatten)         (None, 192)               0         \n",
            "                                                                 \n",
            " dense_4 (Dense)             (None, 32)                6176      \n",
            "                                                                 \n",
            " batch_normalization_11 (Bat  (None, 32)               128       \n",
            " chNormalization)                                                \n",
            "                                                                 \n",
            " dropout_5 (Dropout)         (None, 32)                0         \n",
            "                                                                 \n",
            " dense_5 (Dense)             (None, 10)                330       \n",
            "                                                                 \n",
            "=================================================================\n",
            "Total params: 214,954\n",
            "Trainable params: 213,994\n",
            "Non-trainable params: 960\n",
            "_________________________________________________________________\n"
          ]
        }
      ]
    },
    {
      "cell_type": "code",
      "source": [
        "\n",
        "learning_rate_reduction = ReduceLROnPlateau(monitor='val_accuracy',\n",
        "                                            patience=3,\n",
        "                                            verbose=1,\n",
        "                                            factor=0.5,\n",
        "                                            min_lr=0.00001)\n",
        "early_stop = EarlyStopping(monitor=\"val_accuracy\", min_delta=0, patience=5, mode=\"auto\")\n",
        "callbacks=[learning_rate_reduction,early_stop]"
      ],
      "metadata": {
        "id": "GxO2VnRm4pX4"
      },
      "execution_count": null,
      "outputs": []
    },
    {
      "cell_type": "code",
      "source": [
        "history=model.fit(x_train, y_train, batch_size=32, epochs=80, validation_data=(x_test, y_test), callbacks=callbacks)"
      ],
      "metadata": {
        "id": "cL1KHlIW4rWu",
        "colab": {
          "base_uri": "https://localhost:8080/"
        },
        "outputId": "f79ca472-6b1b-4bea-cc4a-1110107c36c0"
      },
      "execution_count": null,
      "outputs": [
        {
          "output_type": "stream",
          "name": "stdout",
          "text": [
            "Epoch 1/80\n",
            "235/235 [==============================] - 3s 9ms/step - loss: 1.8363 - accuracy: 0.3735 - val_loss: 2.4272 - val_accuracy: 0.1541 - lr: 0.0010\n",
            "Epoch 2/80\n",
            "235/235 [==============================] - 2s 8ms/step - loss: 1.4452 - accuracy: 0.5008 - val_loss: 1.8816 - val_accuracy: 0.3231 - lr: 0.0010\n",
            "Epoch 3/80\n",
            "235/235 [==============================] - 2s 8ms/step - loss: 1.2937 - accuracy: 0.5545 - val_loss: 1.3473 - val_accuracy: 0.5180 - lr: 0.0010\n",
            "Epoch 4/80\n",
            "235/235 [==============================] - 2s 7ms/step - loss: 1.1988 - accuracy: 0.5900 - val_loss: 1.1160 - val_accuracy: 0.6145 - lr: 0.0010\n",
            "Epoch 5/80\n",
            "235/235 [==============================] - 2s 8ms/step - loss: 1.1043 - accuracy: 0.6205 - val_loss: 1.0738 - val_accuracy: 0.6277 - lr: 0.0010\n",
            "Epoch 6/80\n",
            "235/235 [==============================] - 2s 8ms/step - loss: 1.0841 - accuracy: 0.6251 - val_loss: 1.0339 - val_accuracy: 0.6537 - lr: 0.0010\n",
            "Epoch 7/80\n",
            "235/235 [==============================] - 2s 8ms/step - loss: 1.0272 - accuracy: 0.6520 - val_loss: 1.0219 - val_accuracy: 0.6533 - lr: 0.0010\n",
            "Epoch 8/80\n",
            "235/235 [==============================] - 2s 7ms/step - loss: 0.9430 - accuracy: 0.6798 - val_loss: 0.9204 - val_accuracy: 0.6861 - lr: 0.0010\n",
            "Epoch 9/80\n",
            "235/235 [==============================] - 2s 7ms/step - loss: 0.8832 - accuracy: 0.6987 - val_loss: 0.8911 - val_accuracy: 0.6910 - lr: 0.0010\n",
            "Epoch 10/80\n",
            "235/235 [==============================] - 2s 8ms/step - loss: 0.8511 - accuracy: 0.7120 - val_loss: 0.8771 - val_accuracy: 0.7162 - lr: 0.0010\n",
            "Epoch 11/80\n",
            "235/235 [==============================] - 2s 7ms/step - loss: 0.8488 - accuracy: 0.7124 - val_loss: 0.8997 - val_accuracy: 0.7042 - lr: 0.0010\n",
            "Epoch 12/80\n",
            "235/235 [==============================] - 2s 7ms/step - loss: 0.7947 - accuracy: 0.7302 - val_loss: 0.9413 - val_accuracy: 0.6765 - lr: 0.0010\n",
            "Epoch 13/80\n",
            "235/235 [==============================] - 2s 7ms/step - loss: 0.7623 - accuracy: 0.7365 - val_loss: 0.7668 - val_accuracy: 0.7346 - lr: 0.0010\n",
            "Epoch 14/80\n",
            "235/235 [==============================] - 2s 8ms/step - loss: 0.7144 - accuracy: 0.7591 - val_loss: 0.7497 - val_accuracy: 0.7438 - lr: 0.0010\n",
            "Epoch 15/80\n",
            "235/235 [==============================] - 2s 7ms/step - loss: 0.6867 - accuracy: 0.7655 - val_loss: 0.7706 - val_accuracy: 0.7370 - lr: 0.0010\n",
            "Epoch 16/80\n",
            "235/235 [==============================] - 2s 10ms/step - loss: 0.6678 - accuracy: 0.7696 - val_loss: 0.7193 - val_accuracy: 0.7674 - lr: 0.0010\n",
            "Epoch 17/80\n",
            "235/235 [==============================] - 2s 7ms/step - loss: 0.6325 - accuracy: 0.7871 - val_loss: 0.7518 - val_accuracy: 0.7506 - lr: 0.0010\n",
            "Epoch 18/80\n",
            "235/235 [==============================] - 2s 8ms/step - loss: 0.6263 - accuracy: 0.7880 - val_loss: 0.7210 - val_accuracy: 0.7658 - lr: 0.0010\n",
            "Epoch 19/80\n",
            "231/235 [============================>.] - ETA: 0s - loss: 0.5973 - accuracy: 0.7953\n",
            "Epoch 19: ReduceLROnPlateau reducing learning rate to 0.0005000000237487257.\n",
            "235/235 [==============================] - 2s 8ms/step - loss: 0.5980 - accuracy: 0.7950 - val_loss: 0.7540 - val_accuracy: 0.7550 - lr: 0.0010\n",
            "Epoch 20/80\n",
            "235/235 [==============================] - 2s 8ms/step - loss: 0.4821 - accuracy: 0.8412 - val_loss: 0.6457 - val_accuracy: 0.7850 - lr: 5.0000e-04\n",
            "Epoch 21/80\n",
            "235/235 [==============================] - 2s 7ms/step - loss: 0.4500 - accuracy: 0.8500 - val_loss: 0.5736 - val_accuracy: 0.8098 - lr: 5.0000e-04\n",
            "Epoch 22/80\n",
            "235/235 [==============================] - 2s 7ms/step - loss: 0.4019 - accuracy: 0.8677 - val_loss: 0.5864 - val_accuracy: 0.8155 - lr: 5.0000e-04\n",
            "Epoch 23/80\n",
            "235/235 [==============================] - 2s 8ms/step - loss: 0.3848 - accuracy: 0.8696 - val_loss: 0.5978 - val_accuracy: 0.8026 - lr: 5.0000e-04\n",
            "Epoch 24/80\n",
            "235/235 [==============================] - 2s 7ms/step - loss: 0.3906 - accuracy: 0.8644 - val_loss: 0.5894 - val_accuracy: 0.8110 - lr: 5.0000e-04\n",
            "Epoch 25/80\n",
            "229/235 [============================>.] - ETA: 0s - loss: 0.3716 - accuracy: 0.8757\n",
            "Epoch 25: ReduceLROnPlateau reducing learning rate to 0.0002500000118743628.\n",
            "235/235 [==============================] - 2s 7ms/step - loss: 0.3746 - accuracy: 0.8748 - val_loss: 0.5965 - val_accuracy: 0.8074 - lr: 5.0000e-04\n",
            "Epoch 26/80\n",
            "235/235 [==============================] - 2s 8ms/step - loss: 0.3345 - accuracy: 0.8900 - val_loss: 0.5586 - val_accuracy: 0.8267 - lr: 2.5000e-04\n",
            "Epoch 27/80\n",
            "235/235 [==============================] - 2s 7ms/step - loss: 0.2985 - accuracy: 0.9040 - val_loss: 0.5415 - val_accuracy: 0.8315 - lr: 2.5000e-04\n",
            "Epoch 28/80\n",
            "235/235 [==============================] - 2s 8ms/step - loss: 0.2845 - accuracy: 0.9048 - val_loss: 0.5424 - val_accuracy: 0.8335 - lr: 2.5000e-04\n",
            "Epoch 29/80\n",
            "235/235 [==============================] - 2s 7ms/step - loss: 0.2960 - accuracy: 0.9052 - val_loss: 0.5410 - val_accuracy: 0.8343 - lr: 2.5000e-04\n",
            "Epoch 30/80\n",
            "235/235 [==============================] - 2s 8ms/step - loss: 0.2669 - accuracy: 0.9094 - val_loss: 0.5362 - val_accuracy: 0.8363 - lr: 2.5000e-04\n",
            "Epoch 31/80\n",
            "235/235 [==============================] - 2s 7ms/step - loss: 0.2594 - accuracy: 0.9152 - val_loss: 0.5582 - val_accuracy: 0.8339 - lr: 2.5000e-04\n",
            "Epoch 32/80\n",
            "235/235 [==============================] - 2s 7ms/step - loss: 0.2532 - accuracy: 0.9140 - val_loss: 0.5399 - val_accuracy: 0.8379 - lr: 2.5000e-04\n",
            "Epoch 33/80\n",
            "235/235 [==============================] - 2s 7ms/step - loss: 0.2441 - accuracy: 0.9159 - val_loss: 0.5346 - val_accuracy: 0.8395 - lr: 2.5000e-04\n",
            "Epoch 34/80\n",
            "235/235 [==============================] - 2s 7ms/step - loss: 0.2446 - accuracy: 0.9179 - val_loss: 0.5439 - val_accuracy: 0.8427 - lr: 2.5000e-04\n",
            "Epoch 35/80\n",
            "235/235 [==============================] - 2s 7ms/step - loss: 0.2420 - accuracy: 0.9183 - val_loss: 0.5598 - val_accuracy: 0.8347 - lr: 2.5000e-04\n",
            "Epoch 36/80\n",
            "235/235 [==============================] - 2s 7ms/step - loss: 0.2396 - accuracy: 0.9167 - val_loss: 0.5529 - val_accuracy: 0.8343 - lr: 2.5000e-04\n",
            "Epoch 37/80\n",
            "234/235 [============================>.] - ETA: 0s - loss: 0.2343 - accuracy: 0.9205\n",
            "Epoch 37: ReduceLROnPlateau reducing learning rate to 0.0001250000059371814.\n",
            "235/235 [==============================] - 2s 7ms/step - loss: 0.2342 - accuracy: 0.9206 - val_loss: 0.5445 - val_accuracy: 0.8335 - lr: 2.5000e-04\n",
            "Epoch 38/80\n",
            "235/235 [==============================] - 2s 7ms/step - loss: 0.2042 - accuracy: 0.9326 - val_loss: 0.5141 - val_accuracy: 0.8423 - lr: 1.2500e-04\n",
            "Epoch 39/80\n",
            "235/235 [==============================] - 2s 8ms/step - loss: 0.1825 - accuracy: 0.9430 - val_loss: 0.5085 - val_accuracy: 0.8475 - lr: 1.2500e-04\n",
            "Epoch 40/80\n",
            "235/235 [==============================] - 2s 7ms/step - loss: 0.1868 - accuracy: 0.9381 - val_loss: 0.5285 - val_accuracy: 0.8455 - lr: 1.2500e-04\n",
            "Epoch 41/80\n",
            "235/235 [==============================] - 2s 7ms/step - loss: 0.1841 - accuracy: 0.9385 - val_loss: 0.5279 - val_accuracy: 0.8455 - lr: 1.2500e-04\n",
            "Epoch 42/80\n",
            "233/235 [============================>.] - ETA: 0s - loss: 0.1950 - accuracy: 0.9364\n",
            "Epoch 42: ReduceLROnPlateau reducing learning rate to 6.25000029685907e-05.\n",
            "235/235 [==============================] - 2s 7ms/step - loss: 0.1961 - accuracy: 0.9361 - val_loss: 0.5279 - val_accuracy: 0.8427 - lr: 1.2500e-04\n",
            "Epoch 43/80\n",
            "235/235 [==============================] - 2s 7ms/step - loss: 0.1789 - accuracy: 0.9411 - val_loss: 0.5246 - val_accuracy: 0.8443 - lr: 6.2500e-05\n",
            "Epoch 44/80\n",
            "235/235 [==============================] - 2s 8ms/step - loss: 0.1734 - accuracy: 0.9414 - val_loss: 0.5296 - val_accuracy: 0.8459 - lr: 6.2500e-05\n"
          ]
        }
      ]
    },
    {
      "cell_type": "code",
      "source": [],
      "metadata": {
        "id": "ZF7kLrCZMWWa"
      },
      "execution_count": null,
      "outputs": []
    },
    {
      "cell_type": "code",
      "source": [
        "pred_test = model.predict(x_test)\n",
        "\n",
        "y_pred = encoder.inverse_transform(pred_test)\n",
        "\n",
        "y_test = encoder.inverse_transform(y_test)\n"
      ],
      "metadata": {
        "id": "0UoyWj654v_S",
        "colab": {
          "base_uri": "https://localhost:8080/"
        },
        "outputId": "bdd917f6-b039-448f-996e-6d6a7951263c"
      },
      "execution_count": null,
      "outputs": [
        {
          "output_type": "stream",
          "name": "stdout",
          "text": [
            "79/79 [==============================] - 0s 2ms/step\n"
          ]
        }
      ]
    },
    {
      "cell_type": "code",
      "source": [
        "cm = confusion_matrix(y_test, y_pred)\n",
        "plt.figure(figsize = (12, 6))\n",
        "cm = pd.DataFrame(cm , index = [i for i in encoder.categories_] , columns = [i for i in encoder.categories_])\n",
        "sns.heatmap(cm, linecolor='white', cmap='Blues', linewidth=1, annot=True, fmt='')\n",
        "plt.title('Confusion Matrix', size=20)\n",
        "plt.xlabel('Predicted Labels', size=14)\n",
        "plt.ylabel('Actual Labels', size=14)\n",
        "plt.show()\n"
      ],
      "metadata": {
        "id": "oizPNFQD4wF2",
        "colab": {
          "base_uri": "https://localhost:8080/",
          "height": 413
        },
        "outputId": "1dbf696a-39a2-42ec-bebe-31194c3c9cf7"
      },
      "execution_count": null,
      "outputs": [
        {
          "output_type": "display_data",
          "data": {
            "text/plain": [
              "<Figure size 864x432 with 2 Axes>"
            ],
            "image/png": "[encoded data removed]"
          },
          "metadata": {
            "needs_background": "light"
          }
        }
      ]
    },
    {
      "cell_type": "code",
      "source": [
        "print(classification_report(y_test, y_pred))"
      ],
      "metadata": {
        "id": "5PcXSag0Xtbu",
        "colab": {
          "base_uri": "https://localhost:8080/"
        },
        "outputId": "4dedf17a-8a7d-43c1-a2f9-984cd863ed42"
      },
      "execution_count": null,
      "outputs": [
        {
          "output_type": "stream",
          "name": "stdout",
          "text": [
            "              precision    recall  f1-score   support\n",
            "\n",
            "       blues       0.82      0.85      0.84       250\n",
            "   classical       0.92      0.96      0.94       250\n",
            "     country       0.75      0.73      0.74       249\n",
            "       disco       0.80      0.78      0.79       250\n",
            "      hiphop       0.83      0.85      0.84       250\n",
            "        jazz       0.84      0.81      0.82       250\n",
            "       metal       0.91      0.91      0.91       250\n",
            "         pop       0.87      0.89      0.88       250\n",
            "      reggae       0.86      0.86      0.86       250\n",
            "        rock       0.78      0.75      0.77       249\n",
            "\n",
            "    accuracy                           0.84      2498\n",
            "   macro avg       0.84      0.84      0.84      2498\n",
            "weighted avg       0.84      0.84      0.84      2498\n",
            "\n"
          ]
        }
      ]
    },
    {
      "cell_type": "code",
      "source": [
        "epochs = [i for i in range(68) ]\n",
        "fig , ax = plt.subplots(1,1)\n",
        "train_acc = history.history['accuracy']\n",
        "train_loss = history.history['loss']\n",
        "test_acc = history.history['val_accuracy']\n",
        "test_loss = history.history['val_loss']\n",
        "\n",
        "fig.set_size_inches(8,4)\n",
        "\"\"\"ax.plot(epochs , train_loss , label = 'Training Loss')\n",
        "ax.plot(epochs , test_loss , label = 'Testing Loss')\n",
        "ax.set_title('Training & Testing Loss')\n",
        "ax.legend()\n",
        "ax.set_xlabel(\"Epochs\")\"\"\"\n",
        "\n",
        "ax.plot(epochs , train_acc , label = 'Training Accuracy')\n",
        "ax.plot(epochs , test_acc , label = 'Testing Accuracy')\n",
        "ax.set_title('Training & Testing Accuracy')\n",
        "ax.legend()\n",
        "ax.set_xlabel(\"Epochs\")\n",
        "\n",
        "plt.show()\n"
      ],
      "metadata": {
        "id": "O35usOdT4wJD",
        "colab": {
          "base_uri": "https://localhost:8080/",
          "height": 295
        },
        "outputId": "488b7ed3-b6f1-4168-84a8-7e22dace2400"
      },
      "execution_count": null,
      "outputs": [
        {
          "output_type": "display_data",
          "data": {
            "text/plain": [
              "<Figure size 576x288 with 1 Axes>"
            ],
            "image/png": "[encoded data removed]"
          },
          "metadata": {
            "needs_background": "light"
          }
        }
      ]
    }
  ]
}